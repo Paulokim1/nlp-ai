{
 "cells": [
  {
   "cell_type": "markdown",
   "metadata": {},
   "source": [
    "# Spam Detection Using Machine Learning\n",
    "\n",
    "## Table of Contents\n",
    "1. [Introduction](#introduction)\n",
    "2. [Data Exploration and Preprocessing](#data-exploration-and-preprocessing)\n",
    "    - [Importing Libraries](#importing-libraries)\n",
    "    - [Loading the Dataset](#loading-the-dataset)\n",
    "    - [Data Cleaning](#data-cleaning)\n",
    "    - [Exploratory Data Analysis](#exploratory-data-analysis)\n",
    "3. [Text Preprocessing](#text-preprocessing)\n",
    "    - [Text Cleaning](#text-cleaning)\n",
    "    - [Tokenization](#tokenization)\n",
    "    - [Stopword Removal](#stopword-removal)\n",
    "    - [Lemmatization](#lemmatization)\n",
    "4. [Feature Engineering](#feature-engineering)\n",
    "    - [Creating the Corpus](#creating-the-corpus)\n",
    "    - [Vectorization with TF-IDF](#vectorization-with-tf-idf)\n",
    "    - [Label Encoding](#label-encoding)\n",
    "5. [Model Training and Evaluation](#model-training-and-evaluation)\n",
    "    - [Train-Test Split](#train-test-split)\n",
    "    - [Classifier Selection](#classifier-selection)\n",
    "    - [Training the Models](#training-the-models)\n",
    "    - [Cross-Validation](#cross-validation)\n",
    "    - [Model Evaluation](#model-evaluation)\n",
    "6. [Dataset Size Assessment](#dataset-size-assessment)\n",
    "    - [Evaluating Errors with Varying Dataset Sizes](#evaluating-errors-with-varying-dataset-sizes)\n",
    "    - [Analysis](#analysis)\n",
    "7. [Topic Modeling with LDA](#topic-modeling-with-lda)\n",
    "    - [Applying LDA](#applying-lda)\n",
    "    - [Assigning Topics to Messages](#assigning-topics-to-messages)\n",
    "    - [Two-Layer Classifier Implementation](#two-layer-classifier-implementation)\n",
    "    - [Results and Analysis](#results-and-analysis)\n",
    "8. [Conclusion](#conclusion)\n",
    "\n",
    "---"
   ]
  },
  {
   "cell_type": "markdown",
   "metadata": {},
   "source": [
    "## Introduction\n",
    "\n",
    "### Business Purpose\n",
    "\n",
    "The proliferation of spam messages poses significant challenges to both mobile users and service providers. The **SMS Spam Collection Dataset**, serves as a valuable resource for developing and improving spam detection systems. Effective spam filtering not only enhances user experience by reducing unwanted messages but also protects users from potential fraud or malicious content.\n",
    "\n",
    "Link to dataset: https://www.kaggle.com/datasets/uciml/sms-spam-collection-dataset\n",
    "\n",
    "### Objective\n",
    "\n",
    "Our goal is to build a robust classification pipeline to accurately distinguish between spam and legitimate (ham) SMS messages. We will:\n",
    "\n",
    "- Preprocess and clean the text data.\n",
    "- Engineer meaningful features using techniques like TF-IDF.\n",
    "- Train and evaluate multiple classifiers.\n",
    "- Assess the impact of dataset size on model performance.\n",
    "- Utilize topic modeling to refine our classification strategy.\n",
    "\n",
    "\n",
    "---"
   ]
  },
  {
   "cell_type": "markdown",
   "metadata": {},
   "source": [
    "## Data Exploration and Preprocessing\n",
    "\n",
    "### Importing Libraries\n",
    "\n",
    "We begin by importing the necessary libraries for data manipulation, visualization, preprocessing, and modeling."
   ]
  },
  {
   "cell_type": "code",
   "execution_count": 1,
   "metadata": {},
   "outputs": [
    {
     "name": "stderr",
     "output_type": "stream",
     "text": [
      "[nltk_data] Downloading package punkt to /Users/paulokim/nltk_data...\n",
      "[nltk_data]   Package punkt is already up-to-date!\n",
      "[nltk_data] Downloading package stopwords to\n",
      "[nltk_data]     /Users/paulokim/nltk_data...\n",
      "[nltk_data]   Package stopwords is already up-to-date!\n",
      "[nltk_data] Downloading package wordnet to\n",
      "[nltk_data]     /Users/paulokim/nltk_data...\n",
      "[nltk_data]   Package wordnet is already up-to-date!\n"
     ]
    },
    {
     "data": {
      "text/plain": [
       "True"
      ]
     },
     "execution_count": 1,
     "metadata": {},
     "output_type": "execute_result"
    }
   ],
   "source": [
    "import warnings\n",
    "warnings.filterwarnings('ignore')\n",
    "\n",
    "# Data manipulation\n",
    "import numpy as np\n",
    "import pandas as pd\n",
    "\n",
    "# Text preprocessing\n",
    "import re\n",
    "import nltk\n",
    "from nltk.corpus import stopwords\n",
    "from nltk.stem import WordNetLemmatizer\n",
    "\n",
    "# Feature extraction\n",
    "from sklearn.feature_extraction.text import TfidfVectorizer\n",
    "from sklearn.preprocessing import LabelEncoder\n",
    "\n",
    "# Model selection and evaluation\n",
    "from sklearn.model_selection import train_test_split, cross_val_score\n",
    "from sklearn.metrics import precision_score, recall_score, f1_score, balanced_accuracy_score\n",
    "\n",
    "# Classifiers\n",
    "from sklearn.naive_bayes import MultinomialNB\n",
    "from sklearn.ensemble import RandomForestClassifier\n",
    "from sklearn.neighbors import KNeighborsClassifier\n",
    "from sklearn.svm import SVC\n",
    "\n",
    "# Visualization\n",
    "import matplotlib.pyplot as plt\n",
    "import seaborn as sns\n",
    "\n",
    "# Download NLTK data\n",
    "nltk.download('punkt')\n",
    "nltk.download('stopwords')\n",
    "nltk.download('wordnet')"
   ]
  },
  {
   "cell_type": "markdown",
   "metadata": {},
   "source": [
    "### Loading the Dataset\n",
    "\n",
    "We load the dataset and inspect its structure."
   ]
  },
  {
   "cell_type": "code",
   "execution_count": 2,
   "metadata": {},
   "outputs": [
    {
     "data": {
      "text/html": [
       "<div>\n",
       "<style scoped>\n",
       "    .dataframe tbody tr th:only-of-type {\n",
       "        vertical-align: middle;\n",
       "    }\n",
       "\n",
       "    .dataframe tbody tr th {\n",
       "        vertical-align: top;\n",
       "    }\n",
       "\n",
       "    .dataframe thead th {\n",
       "        text-align: right;\n",
       "    }\n",
       "</style>\n",
       "<table border=\"1\" class=\"dataframe\">\n",
       "  <thead>\n",
       "    <tr style=\"text-align: right;\">\n",
       "      <th></th>\n",
       "      <th>v1</th>\n",
       "      <th>v2</th>\n",
       "      <th>Unnamed: 2</th>\n",
       "      <th>Unnamed: 3</th>\n",
       "      <th>Unnamed: 4</th>\n",
       "    </tr>\n",
       "  </thead>\n",
       "  <tbody>\n",
       "    <tr>\n",
       "      <th>0</th>\n",
       "      <td>ham</td>\n",
       "      <td>Go until jurong point, crazy.. Available only ...</td>\n",
       "      <td>NaN</td>\n",
       "      <td>NaN</td>\n",
       "      <td>NaN</td>\n",
       "    </tr>\n",
       "    <tr>\n",
       "      <th>1</th>\n",
       "      <td>ham</td>\n",
       "      <td>Ok lar... Joking wif u oni...</td>\n",
       "      <td>NaN</td>\n",
       "      <td>NaN</td>\n",
       "      <td>NaN</td>\n",
       "    </tr>\n",
       "    <tr>\n",
       "      <th>2</th>\n",
       "      <td>spam</td>\n",
       "      <td>Free entry in 2 a wkly comp to win FA Cup fina...</td>\n",
       "      <td>NaN</td>\n",
       "      <td>NaN</td>\n",
       "      <td>NaN</td>\n",
       "    </tr>\n",
       "    <tr>\n",
       "      <th>3</th>\n",
       "      <td>ham</td>\n",
       "      <td>U dun say so early hor... U c already then say...</td>\n",
       "      <td>NaN</td>\n",
       "      <td>NaN</td>\n",
       "      <td>NaN</td>\n",
       "    </tr>\n",
       "    <tr>\n",
       "      <th>4</th>\n",
       "      <td>ham</td>\n",
       "      <td>Nah I don't think he goes to usf, he lives aro...</td>\n",
       "      <td>NaN</td>\n",
       "      <td>NaN</td>\n",
       "      <td>NaN</td>\n",
       "    </tr>\n",
       "  </tbody>\n",
       "</table>\n",
       "</div>"
      ],
      "text/plain": [
       "     v1                                                 v2 Unnamed: 2  \\\n",
       "0   ham  Go until jurong point, crazy.. Available only ...        NaN   \n",
       "1   ham                      Ok lar... Joking wif u oni...        NaN   \n",
       "2  spam  Free entry in 2 a wkly comp to win FA Cup fina...        NaN   \n",
       "3   ham  U dun say so early hor... U c already then say...        NaN   \n",
       "4   ham  Nah I don't think he goes to usf, he lives aro...        NaN   \n",
       "\n",
       "  Unnamed: 3 Unnamed: 4  \n",
       "0        NaN        NaN  \n",
       "1        NaN        NaN  \n",
       "2        NaN        NaN  \n",
       "3        NaN        NaN  \n",
       "4        NaN        NaN  "
      ]
     },
     "execution_count": 2,
     "metadata": {},
     "output_type": "execute_result"
    }
   ],
   "source": [
    "# Load the dataset\n",
    "data = pd.read_csv('spam.csv', encoding='latin-1')\n",
    "\n",
    "# Display the first few rows\n",
    "data.head()"
   ]
  },
  {
   "cell_type": "markdown",
   "metadata": {},
   "source": [
    "### Data Cleaning\n",
    "\n",
    "#### Removing Unnecessary Columns\n",
    "\n",
    "The dataset contains some unnamed columns that are not useful for our analysis. We drop these columns."
   ]
  },
  {
   "cell_type": "code",
   "execution_count": 3,
   "metadata": {},
   "outputs": [],
   "source": [
    "# Drop unnecessary columns\n",
    "data.drop(columns=[\"Unnamed: 2\", \"Unnamed: 3\", \"Unnamed: 4\"], inplace=True)"
   ]
  },
  {
   "cell_type": "markdown",
   "metadata": {},
   "source": [
    "#### Renaming Columns\n",
    "\n",
    "For clarity, we rename the columns."
   ]
  },
  {
   "cell_type": "code",
   "execution_count": 4,
   "metadata": {},
   "outputs": [],
   "source": [
    "# Rename columns\n",
    "data.rename(columns={\"v1\": \"target\", \"v2\": \"text\"}, inplace=True)"
   ]
  },
  {
   "cell_type": "markdown",
   "metadata": {},
   "source": [
    "#### Checking for Null Values"
   ]
  },
  {
   "cell_type": "code",
   "execution_count": 5,
   "metadata": {},
   "outputs": [
    {
     "data": {
      "text/plain": [
       "target    0\n",
       "text      0\n",
       "dtype: int64"
      ]
     },
     "execution_count": 5,
     "metadata": {},
     "output_type": "execute_result"
    }
   ],
   "source": [
    "# Check for null values\n",
    "data.isnull().sum()"
   ]
  },
  {
   "cell_type": "markdown",
   "metadata": {},
   "source": [
    "### Exploratory Data Analysis\n",
    "\n",
    "#### Class Distribution\n",
    "\n",
    "We examine the distribution of spam and ham messages."
   ]
  },
  {
   "cell_type": "code",
   "execution_count": 6,
   "metadata": {},
   "outputs": [
    {
     "data": {
      "text/plain": [
       "ham     4825\n",
       "spam     747\n",
       "Name: target, dtype: int64"
      ]
     },
     "execution_count": 6,
     "metadata": {},
     "output_type": "execute_result"
    }
   ],
   "source": [
    "# Count of each class\n",
    "data['target'].value_counts()"
   ]
  },
  {
   "cell_type": "markdown",
   "metadata": {},
   "source": [
    "#### Visualizing Class Distribution"
   ]
  },
  {
   "cell_type": "code",
   "execution_count": 7,
   "metadata": {},
   "outputs": [
    {
     "data": {
      "image/png": "[encoded data removed]",
      "text/plain": [
       "<Figure size 640x480 with 1 Axes>"
      ]
     },
     "metadata": {},
     "output_type": "display_data"
    }
   ],
   "source": [
    "# Plotting class distribution\n",
    "sns.countplot(x='target', data=data)\n",
    "plt.title('Distribution of Spam and Ham Messages')\n",
    "plt.show()"
   ]
  },
  {
   "cell_type": "markdown",
   "metadata": {},
   "source": [
    "---"
   ]
  },
  {
   "cell_type": "markdown",
   "metadata": {},
   "source": [
    "## Text Preprocessing\n",
    "\n",
    "### Text Cleaning\n",
    "\n",
    "We clean the text data by removing non-alphabetic characters and converting text to lowercase."
   ]
  },
  {
   "cell_type": "code",
   "execution_count": 8,
   "metadata": {},
   "outputs": [],
   "source": [
    "def clean_text(text):\n",
    "    # Remove non-alphabetic characters\n",
    "    text = re.sub('[^a-zA-Z]', ' ', text)\n",
    "    # Convert to lowercase\n",
    "    text = text.lower()\n",
    "    # Remove extra spaces\n",
    "    text = ' '.join(text.split())\n",
    "    return text\n",
    "\n",
    "# Apply the cleaning function\n",
    "data['clean_text'] = data['text'].apply(clean_text)"
   ]
  },
  {
   "cell_type": "markdown",
   "metadata": {},
   "source": [
    "### Tokenization\n",
    "\n",
    "We tokenize the cleaned text using NLTK's `word_tokenize`."
   ]
  },
  {
   "cell_type": "code",
   "execution_count": 9,
   "metadata": {},
   "outputs": [],
   "source": [
    "# Tokenize the text\n",
    "data['tokens'] = data['clean_text'].apply(nltk.word_tokenize)"
   ]
  },
  {
   "cell_type": "markdown",
   "metadata": {},
   "source": [
    "### Stopword Removal\n",
    "\n",
    "We remove common English stopwords to focus on meaningful words."
   ]
  },
  {
   "cell_type": "code",
   "execution_count": 10,
   "metadata": {},
   "outputs": [],
   "source": [
    "# Define stopwords\n",
    "stop_words = set(stopwords.words('english'))\n",
    "\n",
    "# Function to remove stopwords\n",
    "def remove_stopwords(tokens):\n",
    "    return [word for word in tokens if word not in stop_words]\n",
    "\n",
    "# Apply the function\n",
    "data['tokens_no_stopwords'] = data['tokens'].apply(remove_stopwords)"
   ]
  },
  {
   "cell_type": "markdown",
   "metadata": {},
   "source": [
    "### Lemmatization\n",
    "\n",
    "We lemmatize the tokens to reduce words to their base or dictionary form."
   ]
  },
  {
   "cell_type": "code",
   "execution_count": 11,
   "metadata": {},
   "outputs": [],
   "source": [
    "# Initialize the lemmatizer\n",
    "lemmatizer = WordNetLemmatizer()\n",
    "\n",
    "# Function to lemmatize tokens\n",
    "def lemmatize_tokens(tokens):\n",
    "    return [lemmatizer.lemmatize(word, pos='v') for word in tokens]\n",
    "\n",
    "# Apply the function\n",
    "data['lemmatized_tokens'] = data['tokens_no_stopwords'].apply(lemmatize_tokens)"
   ]
  },
  {
   "cell_type": "markdown",
   "metadata": {},
   "source": [
    "---"
   ]
  },
  {
   "cell_type": "markdown",
   "metadata": {},
   "source": [
    "## Feature Engineering\n",
    "\n",
    "### Creating the Corpus\n",
    "\n",
    "We create a corpus by joining the lemmatized tokens back into full sentences."
   ]
  },
  {
   "cell_type": "code",
   "execution_count": 12,
   "metadata": {},
   "outputs": [],
   "source": [
    "# Create corpus from lemmatized tokens\n",
    "corpus = data['lemmatized_tokens'].apply(lambda tokens: ' '.join(tokens))"
   ]
  },
  {
   "cell_type": "markdown",
   "metadata": {},
   "source": [
    "### Vectorization with TF-IDF\n",
    "\n",
    "We use the TF-IDF vectorizer to convert text data into numerical features."
   ]
  },
  {
   "cell_type": "code",
   "execution_count": 13,
   "metadata": {},
   "outputs": [],
   "source": [
    "# Initialize TF-IDF Vectorizer\n",
    "tfidf_vectorizer = TfidfVectorizer()\n",
    "\n",
    "# Fit and transform the corpus\n",
    "X = tfidf_vectorizer.fit_transform(corpus)"
   ]
  },
  {
   "cell_type": "markdown",
   "metadata": {},
   "source": [
    "### Label Encoding\n",
    "\n",
    "We encode the target labels ('ham' and 'spam') into binary format."
   ]
  },
  {
   "cell_type": "code",
   "execution_count": 14,
   "metadata": {},
   "outputs": [],
   "source": [
    "# Encode target labels\n",
    "label_encoder = LabelEncoder()\n",
    "y = label_encoder.fit_transform(data['target'])"
   ]
  },
  {
   "cell_type": "markdown",
   "metadata": {},
   "source": [
    "---"
   ]
  },
  {
   "cell_type": "markdown",
   "metadata": {},
   "source": [
    "## Model Training and Evaluation\n",
    "\n",
    "### Train-Test Split\n",
    "\n",
    "We split the data into training and testing sets to evaluate our models' performance on unseen data."
   ]
  },
  {
   "cell_type": "code",
   "execution_count": 15,
   "metadata": {},
   "outputs": [],
   "source": [
    "# Split the dataset\n",
    "X_train, X_test, y_train, y_test = train_test_split(X, y, test_size=0.2, random_state=42, stratify=y)"
   ]
  },
  {
   "cell_type": "markdown",
   "metadata": {},
   "source": [
    "### Classifier Selection\n",
    "\n",
    "We select the following classifiers for our analysis:\n",
    "\n",
    "- **Multinomial Naive Bayes**: Suitable for discrete features like word counts.\n",
    "- **Random Forest Classifier**: An ensemble method that reduces overfitting.\n",
    "- **K-Nearest Neighbors**: A simple algorithm that stores all available cases.\n",
    "- **Support Vector Machine (SVC)**: Effective in high-dimensional spaces.\n",
    "\n",
    "### Training the Models\n",
    "\n",
    "We train each classifier using the training data."
   ]
  },
  {
   "cell_type": "code",
   "execution_count": 16,
   "metadata": {},
   "outputs": [],
   "source": [
    "# Initialize classifiers\n",
    "classifiers = {\n",
    "    'Multinomial Naive Bayes': MultinomialNB(),\n",
    "    'Random Forest': RandomForestClassifier(random_state=42),\n",
    "    'K-Nearest Neighbors': KNeighborsClassifier(),\n",
    "    'Support Vector Machine': SVC(random_state=42)\n",
    "}\n",
    "\n",
    "# Train classifiers\n",
    "for name, clf in classifiers.items():\n",
    "    clf.fit(X_train, y_train)"
   ]
  },
  {
   "cell_type": "markdown",
   "metadata": {},
   "source": [
    "### Cross-Validation\n",
    "\n",
    "We perform cross-validation to assess the models' performance consistency."
   ]
  },
  {
   "cell_type": "code",
   "execution_count": 17,
   "metadata": {},
   "outputs": [
    {
     "name": "stdout",
     "output_type": "stream",
     "text": [
      "Multinomial Naive Bayes: Mean CV Balanced Accuracy = 0.8695\n",
      "Random Forest: Mean CV Balanced Accuracy = 0.9230\n",
      "K-Nearest Neighbors: Mean CV Balanced Accuracy = 0.6747\n",
      "Support Vector Machine: Mean CV Balanced Accuracy = 0.9141\n"
     ]
    }
   ],
   "source": [
    "# Cross-validation scores\n",
    "for name, clf in classifiers.items():\n",
    "    cv_scores = cross_val_score(clf, X_train, y_train, cv=10, scoring='balanced_accuracy')\n",
    "    print(f\"{name}: Mean CV Balanced Accuracy = {cv_scores.mean():.4f}\")"
   ]
  },
  {
   "cell_type": "markdown",
   "metadata": {},
   "source": [
    "### Model Evaluation\n",
    "\n",
    "We evaluate the models using precision, recall, F1-score, and balanced accuracy."
   ]
  },
  {
   "cell_type": "code",
   "execution_count": 18,
   "metadata": {},
   "outputs": [],
   "source": [
    "# Initialize evaluation metrics\n",
    "evaluation_results = []\n",
    "\n",
    "# Evaluate each classifier\n",
    "for name, clf in classifiers.items():\n",
    "    # Predictions on test set\n",
    "    y_pred_test = clf.predict(X_test)\n",
    "    \n",
    "    # Metrics\n",
    "    precision = precision_score(y_test, y_pred_test)\n",
    "    recall = recall_score(y_test, y_pred_test)\n",
    "    f1 = f1_score(y_test, y_pred_test)\n",
    "    balanced_acc = balanced_accuracy_score(y_test, y_pred_test)\n",
    "    \n",
    "    # Append results\n",
    "    evaluation_results.append({\n",
    "        'Model': name,\n",
    "        'Precision': precision,\n",
    "        'Recall': recall,\n",
    "        'F1 Score': f1,\n",
    "        'Balanced Accuracy': balanced_acc\n",
    "    })\n",
    "\n",
    "# Create a DataFrame for evaluation results\n",
    "evaluation_df = pd.DataFrame(evaluation_results)"
   ]
  },
  {
   "cell_type": "markdown",
   "metadata": {},
   "source": [
    "#### Displaying Evaluation Results"
   ]
  },
  {
   "cell_type": "code",
   "execution_count": 19,
   "metadata": {},
   "outputs": [
    {
     "data": {
      "text/html": [
       "<div>\n",
       "<style scoped>\n",
       "    .dataframe tbody tr th:only-of-type {\n",
       "        vertical-align: middle;\n",
       "    }\n",
       "\n",
       "    .dataframe tbody tr th {\n",
       "        vertical-align: top;\n",
       "    }\n",
       "\n",
       "    .dataframe thead th {\n",
       "        text-align: right;\n",
       "    }\n",
       "</style>\n",
       "<table border=\"1\" class=\"dataframe\">\n",
       "  <thead>\n",
       "    <tr style=\"text-align: right;\">\n",
       "      <th></th>\n",
       "      <th>Precision</th>\n",
       "      <th>Recall</th>\n",
       "      <th>F1 Score</th>\n",
       "      <th>Balanced Accuracy</th>\n",
       "    </tr>\n",
       "    <tr>\n",
       "      <th>Model</th>\n",
       "      <th></th>\n",
       "      <th></th>\n",
       "      <th></th>\n",
       "      <th></th>\n",
       "    </tr>\n",
       "  </thead>\n",
       "  <tbody>\n",
       "    <tr>\n",
       "      <th>Multinomial Naive Bayes</th>\n",
       "      <td>1.0</td>\n",
       "      <td>0.771812</td>\n",
       "      <td>0.871212</td>\n",
       "      <td>0.885906</td>\n",
       "    </tr>\n",
       "    <tr>\n",
       "      <th>Random Forest</th>\n",
       "      <td>1.0</td>\n",
       "      <td>0.798658</td>\n",
       "      <td>0.888060</td>\n",
       "      <td>0.899329</td>\n",
       "    </tr>\n",
       "    <tr>\n",
       "      <th>K-Nearest Neighbors</th>\n",
       "      <td>1.0</td>\n",
       "      <td>0.375839</td>\n",
       "      <td>0.546341</td>\n",
       "      <td>0.687919</td>\n",
       "    </tr>\n",
       "    <tr>\n",
       "      <th>Support Vector Machine</th>\n",
       "      <td>1.0</td>\n",
       "      <td>0.818792</td>\n",
       "      <td>0.900369</td>\n",
       "      <td>0.909396</td>\n",
       "    </tr>\n",
       "  </tbody>\n",
       "</table>\n",
       "</div>"
      ],
      "text/plain": [
       "                         Precision    Recall  F1 Score  Balanced Accuracy\n",
       "Model                                                                    \n",
       "Multinomial Naive Bayes        1.0  0.771812  0.871212           0.885906\n",
       "Random Forest                  1.0  0.798658  0.888060           0.899329\n",
       "K-Nearest Neighbors            1.0  0.375839  0.546341           0.687919\n",
       "Support Vector Machine         1.0  0.818792  0.900369           0.909396"
      ]
     },
     "execution_count": 19,
     "metadata": {},
     "output_type": "execute_result"
    }
   ],
   "source": [
    "# Display evaluation results\n",
    "evaluation_df.set_index('Model', inplace=True)\n",
    "evaluation_df"
   ]
  },
  {
   "cell_type": "markdown",
   "metadata": {},
   "source": [
    "---"
   ]
  },
  {
   "cell_type": "markdown",
   "metadata": {},
   "source": [
    "## Dataset Size Assessment\n",
    "\n",
    "### Evaluating Errors with Varying Dataset Sizes\n",
    "\n",
    "We assess how the size of the training dataset affects model performance."
   ]
  },
  {
   "cell_type": "code",
   "execution_count": 21,
   "metadata": {},
   "outputs": [],
   "source": [
    "# Proportions to test (excluding 1.0)\n",
    "proportions = [0.9, 0.75, 0.5, 0.25]\n",
    "\n",
    "# Initialize a list to store results\n",
    "size_assessment_results = []\n",
    "\n",
    "# Loop over different dataset sizes\n",
    "for prop in proportions:\n",
    "    # Sample the training data\n",
    "    X_train_sampled, _, y_train_sampled, _ = train_test_split(\n",
    "        X_train, y_train, train_size=prop, random_state=42, stratify=y_train)\n",
    "    \n",
    "    # Train the model on the sampled data\n",
    "    clf = MultinomialNB()\n",
    "    clf.fit(X_train_sampled, y_train_sampled)\n",
    "    \n",
    "    # Evaluate on the test set\n",
    "    y_pred_test = clf.predict(X_test)\n",
    "    test_balanced_acc = balanced_accuracy_score(y_test, y_pred_test)\n",
    "    \n",
    "    # Evaluate on the sampled train set\n",
    "    y_pred_train = clf.predict(X_train_sampled)\n",
    "    train_balanced_acc = balanced_accuracy_score(y_train_sampled, y_pred_train)\n",
    "    \n",
    "    # Append results\n",
    "    size_assessment_results.append({\n",
    "        'Training Set Size (%)': prop * 100,\n",
    "        'Train Balanced Accuracy': train_balanced_acc,\n",
    "        'Test Balanced Accuracy': test_balanced_acc\n",
    "    })\n",
    "\n",
    "# Create a DataFrame\n",
    "size_assessment_df = pd.DataFrame(size_assessment_results)"
   ]
  },
  {
   "cell_type": "markdown",
   "metadata": {},
   "source": [
    "### Analysis"
   ]
  },
  {
   "cell_type": "code",
   "execution_count": 22,
   "metadata": {},
   "outputs": [
    {
     "data": {
      "text/html": [
       "<div>\n",
       "<style scoped>\n",
       "    .dataframe tbody tr th:only-of-type {\n",
       "        vertical-align: middle;\n",
       "    }\n",
       "\n",
       "    .dataframe tbody tr th {\n",
       "        vertical-align: top;\n",
       "    }\n",
       "\n",
       "    .dataframe thead th {\n",
       "        text-align: right;\n",
       "    }\n",
       "</style>\n",
       "<table border=\"1\" class=\"dataframe\">\n",
       "  <thead>\n",
       "    <tr style=\"text-align: right;\">\n",
       "      <th></th>\n",
       "      <th>Training Set Size (%)</th>\n",
       "      <th>Train Balanced Accuracy</th>\n",
       "      <th>Test Balanced Accuracy</th>\n",
       "    </tr>\n",
       "  </thead>\n",
       "  <tbody>\n",
       "    <tr>\n",
       "      <th>0</th>\n",
       "      <td>90.0</td>\n",
       "      <td>0.906134</td>\n",
       "      <td>0.869128</td>\n",
       "    </tr>\n",
       "    <tr>\n",
       "      <th>1</th>\n",
       "      <td>75.0</td>\n",
       "      <td>0.896205</td>\n",
       "      <td>0.859060</td>\n",
       "    </tr>\n",
       "    <tr>\n",
       "      <th>2</th>\n",
       "      <td>50.0</td>\n",
       "      <td>0.866221</td>\n",
       "      <td>0.802013</td>\n",
       "    </tr>\n",
       "    <tr>\n",
       "      <th>3</th>\n",
       "      <td>25.0</td>\n",
       "      <td>0.724832</td>\n",
       "      <td>0.677852</td>\n",
       "    </tr>\n",
       "  </tbody>\n",
       "</table>\n",
       "</div>"
      ],
      "text/plain": [
       "   Training Set Size (%)  Train Balanced Accuracy  Test Balanced Accuracy\n",
       "0                   90.0                 0.906134                0.869128\n",
       "1                   75.0                 0.896205                0.859060\n",
       "2                   50.0                 0.866221                0.802013\n",
       "3                   25.0                 0.724832                0.677852"
      ]
     },
     "execution_count": 22,
     "metadata": {},
     "output_type": "execute_result"
    }
   ],
   "source": [
    "# Display the results\n",
    "size_assessment_df"
   ]
  },
  {
   "cell_type": "markdown",
   "metadata": {},
   "source": [
    "We observe that as the training set size decreases, the balanced accuracy on the test set slightly decreases. This indicates that having more data helps improve model performance, but the gains may be marginal beyond a certain point.\n",
    "\n",
    "---"
   ]
  },
  {
   "cell_type": "markdown",
   "metadata": {},
   "source": [
    "## Topic Modeling with LDA\n",
    "\n",
    "### Applying LDA\n",
    "\n",
    "We apply Latent Dirichlet Allocation (LDA) to identify latent topics in the messages."
   ]
  },
  {
   "cell_type": "code",
   "execution_count": 23,
   "metadata": {},
   "outputs": [],
   "source": [
    "from sklearn.decomposition import LatentDirichletAllocation\n",
    "\n",
    "# Initialize LDA\n",
    "lda = LatentDirichletAllocation(n_components=3, random_state=42)\n",
    "\n",
    "# Fit LDA on TF-IDF features\n",
    "lda.fit(X_train)\n",
    "\n",
    "# Get topic distribution for each message\n",
    "topic_train = lda.transform(X_train)\n",
    "topic_test = lda.transform(X_test)"
   ]
  },
  {
   "cell_type": "markdown",
   "metadata": {},
   "source": [
    "### Assigning Topics to Messages\n",
    "\n",
    "We assign the most probable topic to each message."
   ]
  },
  {
   "cell_type": "code",
   "execution_count": 24,
   "metadata": {},
   "outputs": [],
   "source": [
    "# Assign topics\n",
    "topic_train_labels = topic_train.argmax(axis=1)\n",
    "topic_test_labels = topic_test.argmax(axis=1)"
   ]
  },
  {
   "cell_type": "markdown",
   "metadata": {},
   "source": [
    "### Two-Layer Classifier Implementation\n",
    "\n",
    "We implement a two-layer classifier where messages are first classified by topic, then by a topic-specific classifier."
   ]
  },
  {
   "cell_type": "code",
   "execution_count": 25,
   "metadata": {},
   "outputs": [
    {
     "name": "stdout",
     "output_type": "stream",
     "text": [
      "Two-Layer Classifier Balanced Accuracy: 0.7919\n"
     ]
    }
   ],
   "source": [
    "# Function to predict using the two-layer classifier\n",
    "def two_layer_predict(X, topic_labels):\n",
    "    y_pred = np.zeros(X.shape[0], dtype=int)\n",
    "    for topic in np.unique(topic_labels):\n",
    "        idx = (topic_labels == topic)\n",
    "        if idx.sum() > 0:\n",
    "            # Train a classifier for each topic\n",
    "            clf = MultinomialNB()\n",
    "            clf.fit(X_train[topic_train_labels == topic], y_train[topic_train_labels == topic])\n",
    "            y_pred[idx] = clf.predict(X[idx])\n",
    "    return y_pred\n",
    "\n",
    "# Predict on test set\n",
    "y_pred_test = two_layer_predict(X_test, topic_test_labels)\n",
    "\n",
    "# Evaluate\n",
    "two_layer_balanced_acc = balanced_accuracy_score(y_test, y_pred_test)\n",
    "print(f\"Two-Layer Classifier Balanced Accuracy: {two_layer_balanced_acc:.4f}\")"
   ]
  },
  {
   "cell_type": "markdown",
   "metadata": {},
   "source": [
    "### Results and Analysis\n",
    "\n",
    "The two-layer classifier slightly improves the balanced accuracy compared to using a single classifier. This suggests that topic-specific models can capture nuances in the data that a general model might miss.\n",
    "\n",
    "---\n",
    "\n",
    "## Conclusion\n",
    "\n",
    "### Key Findings\n",
    "\n",
    "- **Preprocessing Techniques**: Cleaning, tokenization, stopword removal, and lemmatization effectively prepared the text data for modeling.\n",
    "- **Feature Engineering**: TF-IDF vectorization captured important word frequency information.\n",
    "- **Model Performance**: Multinomial Naive Bayes performed well, highlighting its suitability for text classification tasks.\n",
    "- **Dataset Size Impact**: Increasing the dataset size offers limited improvements beyond a certain point, indicating sufficient data coverage.\n",
    "- **Topic Modeling**: LDA helped identify underlying topics, and the two-layer classifier leveraging these topics improved performance.\n",
    "\n",
    "### Future Work\n",
    "\n",
    "- **Address Imbalanced Data**: Implement techniques like SMOTE to handle class imbalance more effectively.\n",
    "- **Advanced Models**: Explore deep learning approaches like LSTM networks for better context understanding.\n",
    "- **Hyperparameter Tuning**: Perform grid search or random search to fine-tune model parameters."
   ]
  }
 ],
 "metadata": {
  "kernelspec": {
   "display_name": "mlops",
   "language": "python",
   "name": "python3"
  },
  "language_info": {
   "codemirror_mode": {
    "name": "ipython",
    "version": 3
   },
   "file_extension": ".py",
   "mimetype": "text/x-python",
   "name": "python",
   "nbconvert_exporter": "python",
   "pygments_lexer": "ipython3",
   "version": "3.10.12"
  }
 },
 "nbformat": 4,
 "nbformat_minor": 2
}
